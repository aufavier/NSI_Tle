{
 "cells": [
  {
   "cell_type": "markdown",
   "metadata": {},
   "source": [
    "# Etude de l'efficacité de la récursivité"
   ]
  },
  {
   "cell_type": "markdown",
   "metadata": {},
   "source": [
    "Dans ce notebook nous allons comparer le temps d'exécution d'une fonction récursive par rapport à une fonction itérative répondant au même problème."
   ]
  },
  {
   "cell_type": "code",
   "execution_count": null,
   "metadata": {},
   "outputs": [],
   "source": [
    "import sys\n",
    "from time import perf_counter\n",
    "\n",
    "N = 20000\n",
    "sys.setrecursionlimit(N) # permet de définir le nombre maximum d'appels récursifs "
   ]
  },
  {
   "cell_type": "markdown",
   "metadata": {},
   "source": [
    "## Calcul de la somme des $n$ premiers entiers naturels"
   ]
  },
  {
   "cell_type": "markdown",
   "metadata": {},
   "source": [
    "Ecrire les versions itérative et récursive du calcul de la sommme des $n$ premiers entiers."
   ]
  },
  {
   "cell_type": "code",
   "execution_count": null,
   "metadata": {},
   "outputs": [],
   "source": [
    "def somme_iterative(n):\n",
    "    ''' fonction itérative qui renvoie la somme 1 + 2 + ... + n, où n est un entier positif'''"
   ]
  },
  {
   "cell_type": "code",
   "execution_count": null,
   "metadata": {},
   "outputs": [],
   "source": [
    "def somme_recursive(n):\n",
    "    ''' fonction récursive qui renvoie la somme 1 + 2 + ... + n, où n est un entier positif'''"
   ]
  },
  {
   "cell_type": "markdown",
   "metadata": {},
   "source": [
    "### Comparaison en temps d'exécution"
   ]
  },
  {
   "cell_type": "code",
   "execution_count": null,
   "metadata": {},
   "outputs": [],
   "source": [
    "def temps_exec(n, h):\n",
    "    ''' n est un entier et h une fonction\n",
    "        Calcul le temps nécessaire pour réaliser 1000 fois le calcul réaliser par la fonction h\n",
    "    '''\n",
    "    begin_perf = perf_counter() # démarrage du chronomètre\n",
    "    for i in range(1000):\n",
    "        h(n)\n",
    "    print(\"%s : %.2fs\" % (h.__name__, perf_counter() - begin_perf))\n",
    "    # %s : formatage d'une chaine de caractères\n",
    "    # %.2fs : formatage d'un flottant avec 2 chiffres significatifs\n",
    "    # h.__name__ : permet de récupérer le nom de la fonction utilisée"
   ]
  },
  {
   "cell_type": "code",
   "execution_count": null,
   "metadata": {},
   "outputs": [],
   "source": [
    "temps_exec(N//2, somme_iterative)\n",
    "temps_exec(N//2, somme_recursive)"
   ]
  },
  {
   "cell_type": "markdown",
   "metadata": {},
   "source": [
    "Que peut-on remarquer ?"
   ]
  },
  {
   "cell_type": "markdown",
   "metadata": {},
   "source": [
    "*Votre réponse ici*"
   ]
  },
  {
   "cell_type": "markdown",
   "metadata": {},
   "source": [
    "## Suite de Fibonacci"
   ]
  },
  {
   "cell_type": "markdown",
   "metadata": {},
   "source": [
    "Pour rappel,  la suite de Fibonacci est définie par :\n",
    "\n",
    "$\\begin{cases}\n",
    "\tu_0 = 0\\\\\n",
    "\tu_1 = 1\\\\\n",
    "\tu_{n} = u_{n-2} + u_{n-1}\n",
    "\\end{cases}$\n"
   ]
  },
  {
   "cell_type": "code",
   "execution_count": null,
   "metadata": {},
   "outputs": [],
   "source": [
    "def fibonacci_it(n):\n",
    "    '''version iterative du calcul du terme n de la suite de Fibonacci'''\n",
    "    if n == 0 or n == 1 :\n",
    "        u = n\n",
    "    else :\n",
    "        precedent = 0\n",
    "        u = 1\n",
    "        for i in range(2,n + 1):\n",
    "            tmp = u\n",
    "            u = u + precedent\n",
    "            precedent = tmp\n",
    "            \n",
    "    return u"
   ]
  },
  {
   "cell_type": "code",
   "execution_count": null,
   "metadata": {},
   "outputs": [],
   "source": [
    "def fibonacci_rec(n,p=0):\n",
    "    '''version récursive du calcul du terme n de la suite de Fibonacci'''\n",
    "    \n",
    "#    for i in range(p):\n",
    "#        print('   ',end='')\n",
    "#    print(f'fibo{n}')\n",
    "    \n",
    "    if n == 0 or n == 1 :\n",
    "        u = n\n",
    "    else :\n",
    "        u = fibonacci_rec(n-1,p+1) + fibonacci_rec(n-2,p+1)\n",
    "    return u"
   ]
  },
  {
   "cell_type": "code",
   "execution_count": null,
   "metadata": {},
   "outputs": [],
   "source": [
    "temps_exec(20, fibonacci_it)\n",
    "temps_exec(20, fibonacci_rec)"
   ]
  },
  {
   "cell_type": "markdown",
   "metadata": {},
   "source": [
    "# Améliorer la version récursive"
   ]
  },
  {
   "cell_type": "code",
   "execution_count": null,
   "metadata": {},
   "outputs": [],
   "source": [
    "def fibonacci_rec2(n,saves = {},p=0):\n",
    "    '''version récursive du calcul du terme n de la suite de Fibonacci'''\n"
   ]
  },
  {
   "cell_type": "markdown",
   "metadata": {},
   "source": [
    "En vous basant sur le code suivant écrire un code pour obtenir le temps d'execution de votre fonction `fibonnaci_rec2`\n",
    "\n",
    "Tester pour $n = 20$ puis $n = 30$ (il faut attendre un peu avant d'avoir le résultat !)"
   ]
  },
  {
   "cell_type": "code",
   "execution_count": null,
   "metadata": {},
   "outputs": [],
   "source": [
    "n = 20"
   ]
  },
  {
   "cell_type": "code",
   "execution_count": null,
   "metadata": {},
   "outputs": [],
   "source": [
    "# Calcul temps d'exécution pour fibonacci_rec :\n",
    "h=fibonacci_rec\n",
    "begin_perf = perf_counter() # démarrage du chronomètre\n",
    "for i in range(1000):\n",
    "    h(n)\n",
    "print(\"%s : %.2fs\" % (h.__name__, perf_counter() - begin_perf))"
   ]
  },
  {
   "cell_type": "code",
   "execution_count": null,
   "metadata": {},
   "outputs": [],
   "source": [
    "# Calclul temps d'exécution pour fibonacci_rec2 :\n",
    "#mettre votre code ici"
   ]
  }
 ],
 "metadata": {
  "kernelspec": {
   "display_name": "Python 3",
   "language": "python",
   "name": "python3"
  },
  "language_info": {
   "codemirror_mode": {
    "name": "ipython",
    "version": 3
   },
   "file_extension": ".py",
   "mimetype": "text/x-python",
   "name": "python",
   "nbconvert_exporter": "python",
   "pygments_lexer": "ipython3",
   "version": "3.7.6"
  }
 },
 "nbformat": 4,
 "nbformat_minor": 4
}
